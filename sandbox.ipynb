{
 "cells": [
  {
   "cell_type": "code",
   "execution_count": 3,
   "metadata": {},
   "outputs": [],
   "source": [
    "import numpy as np\n",
    "import matplotlib.pyplot as plt\n",
    "import matplotlib.cm as cm"
   ]
  },
  {
   "cell_type": "code",
   "execution_count": 10,
   "metadata": {},
   "outputs": [
    {
     "name": "stdout",
     "output_type": "stream",
     "text": [
      "dir init: [ 0.93385188 -1.19292171]\n"
     ]
    }
   ],
   "source": [
    "A = np.zeros(2)\n",
    "xt = np.array([10.0,10.0])\n",
    "eta = 1\n",
    "d = np.random.normal(size=(2,))\n",
    "print(\"dir init: {}\".format(d))\n",
    "\n",
    "\n",
    "x1 = []\n",
    "x2 = []\n",
    "directions = []\n",
    "errs = []\n",
    "\n",
    "ITER = 1000\n",
    "for i in range(ITER):\n",
    "    x1.append(xt[0])\n",
    "    x2.append(xt[1])\n",
    "    err = np.linalg.norm(xt-A) + np.random.normal(0, 0.2)\n",
    "    errs.append(err)\n",
    "    directions.append(d)\n",
    "    \n",
    "    # calculate a new direction.\n",
    "    if (len(directions) > 2):\n",
    "        sgn = np.sign(errs[-2] - errs[-1])\n",
    "        d = sgn * (directions[-1] - directions[-2])\n",
    "    d += np.random.normal(scale=0.1, size=(2,))\n",
    "    d = d/np.linalg.norm(d)\n",
    "    \n",
    "    # move to new place.\n",
    "    xt += eta * d\n",
    "    \n",
    "    if errs[-1] < 0.5:\n",
    "        break"
   ]
  },
  {
   "cell_type": "code",
   "execution_count": 11,
   "metadata": {},
   "outputs": [
    {
     "name": "stdout",
     "output_type": "stream",
     "text": [
      "47\n"
     ]
    },
    {
     "data": {
      "image/png": "[encoded data removed]",
      "text/plain": [
       "<Figure size 432x288 with 1 Axes>"
      ]
     },
     "metadata": {},
     "output_type": "display_data"
    }
   ],
   "source": [
    "plt.figure()\n",
    "plt.plot(x1[:i], x2[:i], '-')\n",
    "\n",
    "print(i)"
   ]
  },
  {
   "cell_type": "code",
   "execution_count": 8,
   "metadata": {},
   "outputs": [
    {
     "data": {
      "text/plain": [
       "nan"
      ]
     },
     "execution_count": 8,
     "metadata": {},
     "output_type": "execute_result"
    }
   ],
   "source": [
    "errs[-1]"
   ]
  },
  {
   "cell_type": "code",
   "execution_count": null,
   "metadata": {},
   "outputs": [],
   "source": []
  }
 ],
 "metadata": {
  "kernelspec": {
   "display_name": "Python 2",
   "language": "python",
   "name": "python2"
  },
  "language_info": {
   "codemirror_mode": {
    "name": "ipython",
    "version": 2
   },
   "file_extension": ".py",
   "mimetype": "text/x-python",
   "name": "python",
   "nbconvert_exporter": "python",
   "pygments_lexer": "ipython2",
   "version": "2.7.12"
  }
 },
 "nbformat": 4,
 "nbformat_minor": 2
}
